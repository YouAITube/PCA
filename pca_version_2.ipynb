{
  "nbformat": 4,
  "nbformat_minor": 0,
  "metadata": {
    "colab": {
      "provenance": []
    },
    "kernelspec": {
      "name": "python3",
      "display_name": "Python 3"
    },
    "language_info": {
      "name": "python"
    }
  },
  "cells": [
    {
      "cell_type": "code",
      "execution_count": 1,
      "metadata": {
        "id": "xkLSDsUdQzSX"
      },
      "outputs": [],
      "source": [
        "%matplotlib inline\n",
        "import numpy as np\n",
        "import matplotlib.pyplot as plt\n",
        "import pandas as pd"
      ]
    },
    {
      "cell_type": "code",
      "source": [
        "x = np.arange(1,11)\n",
        "y = 2 * x + np.random.randn(10)*2\n",
        "X = np.vstack((x,y))\n",
        "\n",
        "plt.scatter(X[0],X[1])"
      ],
      "metadata": {
        "colab": {
          "base_uri": "https://localhost:8080/",
          "height": 447
        },
        "id": "LGpdNhuPS3lY",
        "outputId": "5365233e-2841-4eaf-b790-c3221eec7f3b"
      },
      "execution_count": 3,
      "outputs": [
        {
          "output_type": "execute_result",
          "data": {
            "text/plain": [
              "<matplotlib.collections.PathCollection at 0x7ee4b5b5eb90>"
            ]
          },
          "metadata": {},
          "execution_count": 3
        },
        {
          "output_type": "display_data",
          "data": {
            "text/plain": [
              "<Figure size 640x480 with 1 Axes>"
            ],
            "image/png": "[encoded data removed]"
          },
          "metadata": {}
        }
      ]
    },
    {
      "cell_type": "code",
      "source": [
        "X[0],X[1]"
      ],
      "metadata": {
        "colab": {
          "base_uri": "https://localhost:8080/"
        },
        "id": "-buATuVlijMz",
        "outputId": "3bc04334-c001-4062-849a-99eb1f586e20"
      },
      "execution_count": 30,
      "outputs": [
        {
          "output_type": "execute_result",
          "data": {
            "text/plain": [
              "(array([ 1.,  2.,  3.,  4.,  5.,  6.,  7.,  8.,  9., 10.]),\n",
              " array([ 1.81341786,  5.56988476,  2.62704493,  7.53267412, 10.27304526,\n",
              "        13.10099216, 15.15227475, 17.97825345, 14.65406142, 19.88536869]))"
            ]
          },
          "metadata": {},
          "execution_count": 30
        }
      ]
    },
    {
      "cell_type": "code",
      "source": [
        "class pca_transform():\n",
        "    def __init__(self, no_of_components):\n",
        "        self.no_of_components = no_of_components\n",
        "        self.eigen_values = None\n",
        "        self.eigen_vectors = None\n",
        "\n",
        "    def transform(self, x):\n",
        "        return np.dot(x - self.mean, self.projection_matrix.T)\n",
        "\n",
        "    def inverse_transform(self, x):\n",
        "        return np.dot(x, self.projection_matrix) + self.mean\n",
        "\n",
        "    def fit(self, x):\n",
        "        self.no_of_components = x.shape[1] if self.no_of_components is None else self.no_of_components\n",
        "        self.mean = np.mean(x, axis=0)\n",
        "\n",
        "        cov_matrix = np.cov(x - self.mean, rowvar=False)\n",
        "\n",
        "        self.eigen_values, self.eigen_vectors = np.linalg.eig(cov_matrix)\n",
        "        self.eigen_vectors = self.eigen_vectors.T\n",
        "\n",
        "        self.sorted_components = np.argsort(self.eigen_values)[::-1]\n",
        "        #self.sorted_components = self.eigen_values.argsort()[::-1]\n",
        "\n",
        "        #self.projection_matrix = self.eigen_vectors[:,self.sorted_components][:,:self.no_of_components]\n",
        "        self.projection_matrix = self.eigen_vectors[self.sorted_components[:self.no_of_components]]\n",
        "        self.explained_variance =self.eigen_values[self.sorted_components[:self.no_of_components]]\n",
        "        self.explained_variance_ratio = self.explained_variance / self.eigen_values.sum()\n",
        "        return self"
      ],
      "metadata": {
        "id": "dpBDZIJ3Q2Le"
      },
      "execution_count": 2,
      "outputs": []
    },
    {
      "cell_type": "code",
      "source": [
        "pca=pca_transform(no_of_components=1)\n",
        "pca.fit(X.T)"
      ],
      "metadata": {
        "colab": {
          "base_uri": "https://localhost:8080/"
        },
        "id": "K3IfhUZ9SxzO",
        "outputId": "31f4a847-c849-4ab9-82fe-76258b67296e"
      },
      "execution_count": 4,
      "outputs": [
        {
          "output_type": "execute_result",
          "data": {
            "text/plain": [
              "<__main__.pca_transform at 0x7ee4b4ddf8e0>"
            ]
          },
          "metadata": {},
          "execution_count": 4
        }
      ]
    },
    {
      "cell_type": "code",
      "source": [
        "print(\"eigenvalues: \",pca.eigen_values)\n",
        "print(\"eigenvectors: \")\n",
        "display(pca.eigen_vectors)\n",
        "print(\"sorted_components: \",pca.sorted_components)"
      ],
      "metadata": {
        "colab": {
          "base_uri": "https://localhost:8080/",
          "height": 104
        },
        "id": "T4ra4-tpTJzZ",
        "outputId": "06f6e5f7-2b76-473e-ac15-69f9e4fa7293"
      },
      "execution_count": 6,
      "outputs": [
        {
          "output_type": "stream",
          "name": "stdout",
          "text": [
            "eigenvalues:  [ 0.66568502 48.38881453]\n",
            "eigenvectors: \n"
          ]
        },
        {
          "output_type": "display_data",
          "data": {
            "text/plain": [
              "array([[-0.90656976,  0.422056  ],\n",
              "       [-0.422056  , -0.90656976]])"
            ]
          },
          "metadata": {}
        },
        {
          "output_type": "stream",
          "name": "stdout",
          "text": [
            "sorted_components:  [1 0]\n"
          ]
        }
      ]
    },
    {
      "cell_type": "code",
      "source": [
        "print(pca.projection_matrix)\n",
        "print(pca.explained_variance)\n",
        "print(pca.explained_variance_ratio)"
      ],
      "metadata": {
        "colab": {
          "base_uri": "https://localhost:8080/"
        },
        "id": "zOj-2woFTy8-",
        "outputId": "080f32ed-c759-4c37-8f7b-c1945a9b0735"
      },
      "execution_count": 7,
      "outputs": [
        {
          "output_type": "stream",
          "name": "stdout",
          "text": [
            "[[-0.422056   -0.90656976]]\n",
            "[48.38881453]\n",
            "[0.98642968]\n"
          ]
        }
      ]
    },
    {
      "cell_type": "code",
      "source": [
        "pca=pca_transform(no_of_components=2)\n",
        "pca.fit(X.T)"
      ],
      "metadata": {
        "colab": {
          "base_uri": "https://localhost:8080/"
        },
        "id": "Nbta8fa_UVxm",
        "outputId": "df2e50fe-16ad-485b-ceb7-f1ed46ff70ea"
      },
      "execution_count": 8,
      "outputs": [
        {
          "output_type": "execute_result",
          "data": {
            "text/plain": [
              "<__main__.pca_transform at 0x7ee4b2c9c070>"
            ]
          },
          "metadata": {},
          "execution_count": 8
        }
      ]
    },
    {
      "cell_type": "code",
      "source": [
        "print(\"eigenvalues: \",pca.eigen_values)\n",
        "print(\"eigenvectors: \")\n",
        "display(pca.eigen_vectors)\n",
        "print(\"sorted_components: \",pca.sorted_components)"
      ],
      "metadata": {
        "colab": {
          "base_uri": "https://localhost:8080/",
          "height": 104
        },
        "id": "SAYcz7GvUSOc",
        "outputId": "643a3406-cf28-488e-f59e-565a1e9d9ec8"
      },
      "execution_count": 9,
      "outputs": [
        {
          "output_type": "stream",
          "name": "stdout",
          "text": [
            "eigenvalues:  [ 0.66568502 48.38881453]\n",
            "eigenvectors: \n"
          ]
        },
        {
          "output_type": "display_data",
          "data": {
            "text/plain": [
              "array([[-0.90656976,  0.422056  ],\n",
              "       [-0.422056  , -0.90656976]])"
            ]
          },
          "metadata": {}
        },
        {
          "output_type": "stream",
          "name": "stdout",
          "text": [
            "sorted_components:  [1 0]\n"
          ]
        }
      ]
    },
    {
      "cell_type": "code",
      "source": [
        "print(pca.projection_matrix)\n",
        "print(pca.explained_variance)\n",
        "print(pca.explained_variance_ratio)"
      ],
      "metadata": {
        "colab": {
          "base_uri": "https://localhost:8080/"
        },
        "id": "t3ctW6B2UYn4",
        "outputId": "c75ad7a8-4d74-4cb1-ec97-51924a24f4f8"
      },
      "execution_count": 10,
      "outputs": [
        {
          "output_type": "stream",
          "name": "stdout",
          "text": [
            "[[-0.422056   -0.90656976]\n",
            " [-0.90656976  0.422056  ]]\n",
            "[48.38881453  0.66568502]\n",
            "[0.98642968 0.01357032]\n"
          ]
        }
      ]
    },
    {
      "cell_type": "code",
      "source": [
        "from sklearn.decomposition import PCA\n",
        "Xcentered = X - X.mean(axis=1, keepdims=True)\n",
        "#Apply PCA with n_components=1 to transposed Xcentered\n",
        "pca = PCA(n_components=2)\n",
        "X_pca = pca.fit_transform(Xcentered.T)"
      ],
      "metadata": {
        "id": "pOXFk1rSUixk"
      },
      "execution_count": 12,
      "outputs": []
    },
    {
      "cell_type": "code",
      "source": [
        "pca.explained_variance_ratio_"
      ],
      "metadata": {
        "colab": {
          "base_uri": "https://localhost:8080/"
        },
        "id": "d8jJ6Au8U83A",
        "outputId": "61b9f592-b26c-4d8a-95e3-eed929560074"
      },
      "execution_count": 14,
      "outputs": [
        {
          "output_type": "execute_result",
          "data": {
            "text/plain": [
              "array([0.98642968, 0.01357032])"
            ]
          },
          "metadata": {},
          "execution_count": 14
        }
      ]
    },
    {
      "cell_type": "code",
      "source": [
        "#print(\"eigenvalues: \",pca.eigen_values)\n",
        "print(\"eigenvectors: \")\n",
        "display(pca.components_)\n",
        "print(pca.explained_variance_ratio_)"
      ],
      "metadata": {
        "colab": {
          "base_uri": "https://localhost:8080/",
          "height": 86
        },
        "id": "TyoqzkUTU2IO",
        "outputId": "39a5bc38-790a-4d30-d0d3-0ec289ac3836"
      },
      "execution_count": 17,
      "outputs": [
        {
          "output_type": "stream",
          "name": "stdout",
          "text": [
            "eigenvectors: \n"
          ]
        },
        {
          "output_type": "display_data",
          "data": {
            "text/plain": [
              "array([[-0.422056  , -0.90656976],\n",
              "       [ 0.90656976, -0.422056  ]])"
            ]
          },
          "metadata": {}
        },
        {
          "output_type": "stream",
          "name": "stdout",
          "text": [
            "[0.98642968 0.01357032]\n"
          ]
        }
      ]
    },
    {
      "cell_type": "code",
      "source": [
        "x_pca=pca.transform(Xcentered.T)\n",
        "#np.dot(Xcentered.T,pca.components_)\n",
        "x_pca #data_reduced"
      ],
      "metadata": {
        "colab": {
          "base_uri": "https://localhost:8080/"
        },
        "id": "04F1CwU7VJVp",
        "outputId": "73b52de5-f3cc-4083-bc2a-d3b195dc1964"
      },
      "execution_count": 18,
      "outputs": [
        {
          "output_type": "execute_result",
          "data": {
            "text/plain": [
              "array([[ 10.09943285,  -0.26194756],\n",
              "       [  6.27187755,  -0.94081721],\n",
              "       [  8.51771115,   1.20779577],\n",
              "       [  3.64836007,   0.04391528],\n",
              "       [  0.74196646,  -0.20610505],\n",
              "       [ -2.24382069,  -0.49308725],\n",
              "       [ -4.52550746,  -0.45227362],\n",
              "       [ -7.5095103 ,  -0.73842514],\n",
              "       [ -4.91795433,   1.57113983],\n",
              "       [-10.08255531,   0.26980495]])"
            ]
          },
          "metadata": {},
          "execution_count": 18
        }
      ]
    },
    {
      "cell_type": "code",
      "source": [
        "plt.figure(figsize=(10,4))\n",
        "plt.scatter(x_pca[:,0],x_pca[:,1],cmap=\"plasma\")\n",
        "plt.xlabel(\"pca1\")\n",
        "plt.xlabel(\"pca2\")"
      ],
      "metadata": {
        "colab": {
          "base_uri": "https://localhost:8080/",
          "height": 440
        },
        "id": "ZzWj41oqW3vG",
        "outputId": "21f804fe-03eb-400e-caa0-4640f6240282"
      },
      "execution_count": 20,
      "outputs": [
        {
          "output_type": "stream",
          "name": "stderr",
          "text": [
            "<ipython-input-20-92f9e1a7b44b>:2: UserWarning: No data for colormapping provided via 'c'. Parameters 'cmap' will be ignored\n",
            "  plt.scatter(x_pca[:,0],x_pca[:,1],cmap=\"plasma\")\n"
          ]
        },
        {
          "output_type": "execute_result",
          "data": {
            "text/plain": [
              "Text(0.5, 0, 'pca2')"
            ]
          },
          "metadata": {},
          "execution_count": 20
        },
        {
          "output_type": "display_data",
          "data": {
            "text/plain": [
              "<Figure size 1000x400 with 1 Axes>"
            ],
            "image/png": "[encoded data removed]"
          },
          "metadata": {}
        }
      ]
    },
    {
      "cell_type": "code",
      "source": [
        "data_original=np.dot(x_pca,pca.components_)+pca.mean_\n",
        "data_original"
      ],
      "metadata": {
        "colab": {
          "base_uri": "https://localhost:8080/"
        },
        "id": "prjuYdjoW7gH",
        "outputId": "6f3a8f4a-edb1-4573-8f88-f67dc4122502"
      },
      "execution_count": 21,
      "outputs": [
        {
          "output_type": "execute_result",
          "data": {
            "text/plain": [
              "array([[-4.5       , -9.04528388],\n",
              "       [-3.5       , -5.28881698],\n",
              "       [-2.5       , -8.23165681],\n",
              "       [-1.5       , -3.32602762],\n",
              "       [-0.5       , -0.58565648],\n",
              "       [ 0.5       ,  2.24229041],\n",
              "       [ 1.5       ,  4.29357301],\n",
              "       [ 2.5       ,  7.11955171],\n",
              "       [ 3.5       ,  3.79535968],\n",
              "       [ 4.5       ,  9.02666695]])"
            ]
          },
          "metadata": {},
          "execution_count": 21
        }
      ]
    },
    {
      "cell_type": "code",
      "source": [
        "Xcentered"
      ],
      "metadata": {
        "colab": {
          "base_uri": "https://localhost:8080/"
        },
        "id": "urb9pj99XUG4",
        "outputId": "eadedd3c-4d71-4658-8482-5f4eea901ae4"
      },
      "execution_count": 25,
      "outputs": [
        {
          "output_type": "execute_result",
          "data": {
            "text/plain": [
              "array([[-4.5       , -3.5       , -2.5       , -1.5       , -0.5       ,\n",
              "         0.5       ,  1.5       ,  2.5       ,  3.5       ,  4.5       ],\n",
              "       [-9.04528388, -5.28881698, -8.23165681, -3.32602762, -0.58565648,\n",
              "         2.24229041,  4.29357301,  7.11955171,  3.79535968,  9.02666695]])"
            ]
          },
          "metadata": {},
          "execution_count": 25
        }
      ]
    },
    {
      "cell_type": "code",
      "source": [],
      "metadata": {
        "id": "SQRsp_M5XWm7"
      },
      "execution_count": null,
      "outputs": []
    }
  ]
}